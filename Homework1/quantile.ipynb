{
 "cells": [
  {
   "cell_type": "code",
   "execution_count": 2,
   "metadata": {},
   "outputs": [
    {
     "data": {
      "text/plain": [
       "(0.485, 0.1, 0.5, 5.0, -18.749999999999996, 29.749999999999996)"
      ]
     },
     "execution_count": 2,
     "metadata": {},
     "output_type": "execute_result"
    }
   ],
   "source": [
    "import numpy as np\n",
    "import matplotlib.pyplot as plt\n",
    "\n",
    "\n",
    "m=0.485\n",
    "c=0.100\n",
    "p_tails=0.4  \n",
    "a=0.5\n",
    "b=5.0\n",
    "A=a+b-(b*m)/c\n",
    "B=a+b+(b*m)/c\n",
    "\n",
    "m,c,a,b,A,B"
   ]
  },
  {
   "cell_type": "code",
   "execution_count": 78,
   "metadata": {},
   "outputs": [],
   "source": [
    "#points where the function changes expression (pdf, cdf)\n",
    "sep1 = m-c\n",
    "sep2 = m\n",
    "sep3 = m+c\n",
    "\n",
    "#points where the quantile function changes expression\n",
    "sp1 = a*sep1\n",
    "sp2 = a*sep1 + A*(sep2-sep1) + b/c*0.5*(sep2**2-sep1**2)\n",
    "sp3 = a*sep1 + A*(sep2-sep1) + b/c*0.5*(sep2**2-sep1**2) + B*(sep3-sep2) - b/c*0.5*(sep3**2-sep2**2)\n",
    "\n",
    "\n",
    "\n",
    "\n",
    "def pdf(t):\n",
    "    if t < sep1:\n",
    "        return a\n",
    "    elif t < sep2:\n",
    "        return A + b/c * t\n",
    "    elif t < sep3:\n",
    "        return B - b/c * t\n",
    "    else:\n",
    "        return a\n",
    "    \n",
    "def cdf(t):\n",
    "    cdf = 0\n",
    "    if t < sep1:\n",
    "        return a*t\n",
    "    if t < sep2:\n",
    "        return a*sep1 + A*(t-sep1) + b/c*0.5*(t**2-sep1**2)\n",
    "    if t < sep3:\n",
    "        return a*sep1 + A*(sep2-sep1) + b/c*0.5*(sep2**2-sep1**2) + B*(t-sep2) - b/c*0.5*(t**2-sep2**2)\n",
    "    else:\n",
    "        return  a*sep1 + A*(sep2-sep1) + b/c*0.5*(sep2**2-sep1**2) + B*(sep3-sep2) - b/c*0.5*(sep3**2-sep2**2) + a*(t-sep3)\n",
    "    \n",
    "    \n",
    "def quantile(F):\n",
    "    if F < sp1:\n",
    "        return F/a\n",
    "    if F < sp2:\n",
    "        alpha = b/c*0.5\n",
    "        beta = A\n",
    "        gamma = -F +( a*sep1 - A*sep1  - b/c*0.5* sep1**2)\n",
    "        return -beta*0.5/alpha + np.sqrt(( beta*0.5/alpha)**2 - gamma/alpha)\n",
    "#         return 0.55\n",
    "    if F < sp3:\n",
    "        alpha =  - b/c*0.5\n",
    "        beta = B\n",
    "        gamma = -F + a*sep1 + A*(sep2-sep1) + b/c*0.5*(sep2**2-sep1**2) - B*sep2 + b/c*0.5* sep2**2\n",
    "        return -beta*0.5/alpha - np.sqrt(( beta*0.5/alpha)**2 - gamma/alpha)\n",
    "#         return 0.55\n",
    "    else:\n",
    "        return (F - (a*sep1 + A*(sep2-sep1) + b/c*0.5*(sep2**2-sep1**2) + B*(sep3-sep2) - b/c*0.5*(sep3**2-sep2**2) - a*sep3))/a"
   ]
  },
  {
   "cell_type": "code",
   "execution_count": 79,
   "metadata": {},
   "outputs": [
    {
     "data": {
      "text/plain": [
       "[<matplotlib.lines.Line2D at 0x2782b2d6a88>]"
      ]
     },
     "execution_count": 79,
     "metadata": {},
     "output_type": "execute_result"
    },
    {
     "data": {
      "image/png": "[encoded data removed]",
      "text/plain": [
       "<Figure size 432x288 with 1 Axes>"
      ]
     },
     "metadata": {
      "needs_background": "light"
     },
     "output_type": "display_data"
    }
   ],
   "source": [
    "v = np.linspace(0,1,100)\n",
    "v.shape\n",
    "pdf_values = np.array([pdf(vi) for vi in v])\n",
    "plt.plot(v,pdf_values)"
   ]
  },
  {
   "cell_type": "code",
   "execution_count": 80,
   "metadata": {},
   "outputs": [
    {
     "data": {
      "text/plain": [
       "[<matplotlib.lines.Line2D at 0x2782b334d48>]"
      ]
     },
     "execution_count": 80,
     "metadata": {},
     "output_type": "execute_result"
    },
    {
     "data": {
      "image/png": "[encoded data removed]",
      "text/plain": [
       "<Figure size 432x288 with 1 Axes>"
      ]
     },
     "metadata": {
      "needs_background": "light"
     },
     "output_type": "display_data"
    }
   ],
   "source": [
    "\n",
    "cdf_values = np.array([cdf(vi) for vi in v])\n",
    "plt.plot(v,cdf_values)"
   ]
  },
  {
   "cell_type": "code",
   "execution_count": 81,
   "metadata": {},
   "outputs": [],
   "source": [
    "n = 10000\n",
    "rands = np.random.rand(n)\n",
    "rands.shape\n",
    "rands_dist = np.array([quantile(F) for F in rands])"
   ]
  },
  {
   "cell_type": "code",
   "execution_count": 82,
   "metadata": {},
   "outputs": [
    {
     "data": {
      "text/plain": [
       "array([0.73352875, 0.81150697, 0.43484914, ..., 0.72308767, 0.81861936,\n",
       "       0.40998064])"
      ]
     },
     "execution_count": 82,
     "metadata": {},
     "output_type": "execute_result"
    }
   ],
   "source": [
    "rands_dist"
   ]
  },
  {
   "cell_type": "code",
   "execution_count": 83,
   "metadata": {},
   "outputs": [
    {
     "data": {
      "image/png": "[encoded data removed]",
      "text/plain": [
       "<Figure size 432x288 with 1 Axes>"
      ]
     },
     "metadata": {
      "needs_background": "light"
     },
     "output_type": "display_data"
    }
   ],
   "source": [
    "plt.hist(rands_dist, bins=30, histtype='stepfilled')\n",
    "plt.show()"
   ]
  },
  {
   "cell_type": "code",
   "execution_count": 84,
   "metadata": {},
   "outputs": [
    {
     "data": {
      "text/plain": [
       "1.0000000000000009"
      ]
     },
     "execution_count": 84,
     "metadata": {},
     "output_type": "execute_result"
    }
   ],
   "source": [
    "a*sep1 + A*(sep2-sep1) + b/c*0.5*(sep2**2-sep1**2) + B*(sep3-sep2) - b/c*0.5*(sep3**2-sep2**2) + a*(1-sep3)"
   ]
  },
  {
   "cell_type": "code",
   "execution_count": null,
   "metadata": {},
   "outputs": [],
   "source": []
  },
  {
   "cell_type": "code",
   "execution_count": null,
   "metadata": {},
   "outputs": [],
   "source": []
  }
 ],
 "metadata": {
  "kernelspec": {
   "display_name": "Python 3",
   "language": "python",
   "name": "python3"
  },
  "language_info": {
   "codemirror_mode": {
    "name": "ipython",
    "version": 3
   },
   "file_extension": ".py",
   "mimetype": "text/x-python",
   "name": "python",
   "nbconvert_exporter": "python",
   "pygments_lexer": "ipython3",
   "version": "3.7.4"
  }
 },
 "nbformat": 4,
 "nbformat_minor": 2
}
